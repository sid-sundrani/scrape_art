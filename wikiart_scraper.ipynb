{
 "cells": [
  {
   "cell_type": "code",
   "execution_count": 23,
   "metadata": {},
   "outputs": [],
   "source": [
    "from bs4 import BeautifulSoup\n",
    "import requests\n",
    "import selenium \n",
    "from urllib.parse import urljoin\n",
    "from selenium import webdriver\n"
   ]
  },
  {
   "cell_type": "code",
   "execution_count": 17,
   "metadata": {},
   "outputs": [],
   "source": [
    "website_url = 'https://www.wikiart.org/'\n",
    "website_genre_page = urljoin(website_url, 'en/paintings-by-genre')\n",
    "res = requests.get(base_link)\n",
    "genre_page_soup = BeautifulSoup(res.text, 'html.parser')"
   ]
  },
  {
   "cell_type": "code",
   "execution_count": 22,
   "metadata": {},
   "outputs": [
    {
     "name": "stdout",
     "output_type": "stream",
     "text": [
      "https://www.wikiart.org/en/paintings-by-genre/abstract?select=featured\n"
     ]
    }
   ],
   "source": [
    "genres_container = genre_page_soup.find_all('ul', 'dictionaries-list')[0] \n",
    "genre_links = genres_container.find_all('a')\n",
    "\n",
    "# picking one - test\n",
    "extension = genre_links[0]['href']\n",
    "genre_url = urljoin(website_url, extension)"
   ]
  },
  {
   "cell_type": "markdown",
   "metadata": {},
   "source": [
    "* Selenium required to scrape all contents this dynamic webpage"
   ]
  },
  {
   "cell_type": "code",
   "execution_count": 40,
   "metadata": {},
   "outputs": [
    {
     "name": "stdout",
     "output_type": "stream",
     "text": [
      "https://www.wikiart.org/en/paintings-by-genre/abstract?select=featured\n"
     ]
    }
   ],
   "source": [
    "driver = webdriver.Chrome()\n",
    "driver.get(genre_url)\n",
    "print(genre_url)"
   ]
  },
  {
   "cell_type": "code",
   "execution_count": 41,
   "metadata": {},
   "outputs": [],
   "source": [
    "genre_soup = BeautifulSoup(driver.page_source, 'html.parser')"
   ]
  },
  {
   "cell_type": "code",
   "execution_count": 46,
   "metadata": {},
   "outputs": [
    {
     "name": "stdout",
     "output_type": "stream",
     "text": [
      "Number of art titles 60\n"
     ]
    },
    {
     "data": {
      "text/plain": [
       "<a class=\"artwork-name ng-binding\" href=\"/en/hakuin-ekaku/bonji\" target=\"_self\">Bonji </a>"
      ]
     },
     "execution_count": 46,
     "metadata": {},
     "output_type": "execute_result"
    }
   ],
   "source": [
    "# TO DO: Scroll down \n",
    "# select 1 title- testing \n",
    "title_blocks = genre_soup.find_all('div', \"title-block\")\n",
    "print(f'Number of art titles {len(title_blocks)}')\n",
    "title_block = title_blocks[0]\n",
    "art_ref =  title_block.find('a', 'artwork-name ng-binding')\n",
    "art_ref"
   ]
  },
  {
   "cell_type": "code",
   "execution_count": 47,
   "metadata": {
    "scrolled": false
   },
   "outputs": [
    {
     "data": {
      "text/plain": [
       "[<img alt=\"Bonji - Hakuin Ekaku\" itemprop=\"image\" src=\"https://uploads7.wikiart.org/images/hakuin-ekaku/bonji.jpg!Large.jpg\" title=\"Bonji - Hakuin Ekaku\"/>,\n",
       " <img alt=\"Buy Handmade Oil Painting Reproductions\" src=\"https://uploads.wikiart.org/Content/wiki/img/order@2x.png\"/>,\n",
       " <img alt=\"Chrysanthemums - Hakuin Ekaku\" class=\"image-rendering-fix lazy-load\" img-source=\"'https://uploads7.wikiart.org/images/hakuin-ekaku/chrysanthemums.jpg!Large.jpg'\" lazy-load=\"\" src=\"https://uploads.wikiart.org/Content/wiki/img/lazy-load-placeholder.png\" title=\"Chrysanthemums - Hakuin Ekaku\"/>,\n",
       " <img alt=\"Daruma in Red - Hakuin Ekaku\" class=\"image-rendering-fix lazy-load\" img-source=\"'https://uploads5.wikiart.org/images/hakuin-ekaku/daruma-in-red.jpg'\" lazy-load=\"\" src=\"https://uploads.wikiart.org/Content/wiki/img/lazy-load-placeholder.png\" title=\"Daruma in Red - Hakuin Ekaku\"/>,\n",
       " <img alt=\"Death - Hakuin Ekaku\" class=\"image-rendering-fix lazy-load\" img-source=\"'https://uploads6.wikiart.org/images/hakuin-ekaku/death.jpg'\" lazy-load=\"\" src=\"https://uploads.wikiart.org/Content/wiki/img/lazy-load-placeholder.png\" title=\"Death - Hakuin Ekaku\"/>,\n",
       " <img alt=\"Ensô - Hakuin Ekaku\" class=\"image-rendering-fix lazy-load\" img-source=\"'https://uploads6.wikiart.org/images/hakuin-ekaku/ens-1.jpg'\" lazy-load=\"\" src=\"https://uploads.wikiart.org/Content/wiki/img/lazy-load-placeholder.png\" title=\"Ensô - Hakuin Ekaku\"/>,\n",
       " <img alt=\"Fujiyama from Shoin-ji - Hakuin Ekaku\" class=\"image-rendering-fix lazy-load\" img-source=\"'https://uploads5.wikiart.org/images/hakuin-ekaku/fujiyama-from-shoin-ji.jpg'\" lazy-load=\"\" src=\"https://uploads.wikiart.org/Content/wiki/img/lazy-load-placeholder.png\" title=\"Fujiyama from Shoin-ji - Hakuin Ekaku\"/>,\n",
       " <img alt=\"Hotei on a Boat - Hakuin Ekaku\" class=\"image-rendering-fix lazy-load\" img-source=\"'https://uploads7.wikiart.org/images/hakuin-ekaku/hotei-on-a-boat.jpg'\" lazy-load=\"\" src=\"https://uploads.wikiart.org/Content/wiki/img/lazy-load-placeholder.png\" title=\"Hotei on a Boat - Hakuin Ekaku\"/>,\n",
       " <img alt=\"The Monkey Is Reaching For The Moon - Hakuin Ekaku\" class=\"image-rendering-fix lazy-load\" img-source=\"'https://uploads6.wikiart.org/images/hakuin-ekaku/the-monkey(1).jpg!Large.jpg'\" lazy-load=\"\" src=\"https://uploads.wikiart.org/Content/wiki/img/lazy-load-placeholder.png\" title=\"The Monkey Is Reaching For The Moon - Hakuin Ekaku\"/>,\n",
       " <img alt=\"Brotherhood [2018]\" class=\"lazy-load video-block__thumbnail\" img-source=\"'https://i.vimeocdn.com/video/846297217_1280x720.jpg?r=pad'\" lazy-load=\"\" src=\"https://uploads.wikiart.org/Content/wiki/img/lazy-load-placeholder.png\" title=\"Brotherhood [2018]\"/>]"
      ]
     },
     "execution_count": 47,
     "metadata": {},
     "output_type": "execute_result"
    }
   ],
   "source": [
    "art_url = urljoin(website, art_ref['href'])\n",
    "html = requests.get(art_url).text\n",
    "soup = BeautifulSoup(html, 'html.parser') \n",
    "\n",
    "def get_art_details(soup):\n",
    "    pass\n",
    "\n",
    "\n",
    "soup.find_all('img')"
   ]
  },
  {
   "cell_type": "code",
   "execution_count": 152,
   "metadata": {
    "scrolled": true
   },
   "outputs": [
    {
     "data": {
      "text/plain": [
       "<article ng-init=\"trackPageView('painting', '5772853bedc2cb3880006428')\">\n",
       "<h3>Bonji</h3>\n",
       "<h5 itemprop=\"creator\" itemscope=\"\" itemtype=\"https://schema.org/Person\">\n",
       "<span itemprop=\"name\">\n",
       "<a href=\"/en/hakuin-ekaku\" target=\"_self\">Hakuin Ekaku</a>\n",
       "</span>\n",
       "<meta content=\"http://en.wikipedia.org/wiki/Hakuin_Ekaku\" itemprop=\"sameAs\">\n",
       "</meta></h5>\n",
       "<ul>\n",
       "<li class=\"dictionary-values\">\n",
       "<s>Style:</s>\n",
       "<span>\n",
       "<a href=\"/en/paintings-by-style/zen\" target=\"_self\">Zen</a>\n",
       "</span>\n",
       "</li>\n",
       "<li class=\"dictionary-values\">\n",
       "<s>Genre:</s>\n",
       "<span>\n",
       "<a href=\"/en/paintings-by-genre/abstract\" target=\"_self\"><span itemprop=\"genre\">abstract</span></a>\n",
       "</span>\n",
       "</li>\n",
       "<li class=\"order-reproduction\">\n",
       "<a class=\"hidden-blank\" href=\"https://www.1st-art-gallery.com/\" ng-click=\"gaClick('order', 'order-click-page');\" target=\"_blank\">\n",
       "<div class=\"order-reproduction-img-wrapper\">\n",
       "<img alt=\"Buy Handmade Oil Painting Reproductions\" src=\"https://uploads.wikiart.org/Content/wiki/img/order@2x.png\"/>\n",
       "</div>\n",
       "<h6>\n",
       "                                    \n",
       "                                    Order Oil Painting\n",
       "                                    <br/>\n",
       "                                    reproduction\n",
       "                                </h6>\n",
       "</a>\n",
       "</li>\n",
       "<li class=\"share\">\n",
       "<s>Share:</s>\n",
       "<a class=\"hidden-blank share-icon-fb\" href=\"https://www.facebook.com/sharer/sharer.php?u=https://www.wikiart.org/en/hakuin-ekaku/bonji\" target=\"_blank\"><i class=\"icon-facebook\"></i></a>\n",
       "<a class=\"hidden-blank share-icon-twitter\" href=\"https://twitter.com/intent/tweet?text=Bonji+-+Hakuin+Ekaku&amp;via=wikipaintings&amp;url=https://www.wikiart.org/en/hakuin-ekaku/bonji\" target=\"_blank\"><i class=\"icon-twitter\"></i></a>\n",
       "<a class=\"hidden-blank share-icon-pinterest\" data-pin-custom=\"true\" href=\"https://www.pinterest.com/pin/create/button/?url=https://www.wikiart.org/en/hakuin-ekaku/bonji&amp;media=https://uploads7.wikiart.org/images/hakuin-ekaku/bonji.jpg!Large.jpg&amp;description=Bonji+-+Hakuin+Ekaku\" target=\"_blank\"><i class=\"icon-pinterest\"></i></a>\n",
       "<a class=\"hidden-blank share-icon-tumblr\" href=\"https://www.tumblr.com/widgets/share/tool?canonicalUrl=https://www.wikiart.org/en/hakuin-ekaku/bonji\" target=\"_blank\"><i class=\"icon-tumblr\"></i></a>\n",
       "</li>\n",
       "</ul>\n",
       "</article>"
      ]
     },
     "execution_count": 152,
     "metadata": {},
     "output_type": "execute_result"
    }
   ],
   "source": [
    "art_article = soup.find_all('article')[0]\n",
    "\n",
    "art_title = art_article.h3.text\n",
    "art_article"
   ]
  },
  {
   "cell_type": "code",
   "execution_count": 171,
   "metadata": {},
   "outputs": [
    {
     "data": {
      "text/plain": [
       "'Style:'"
      ]
     },
     "execution_count": 171,
     "metadata": {},
     "output_type": "execute_result"
    }
   ],
   "source": [
    "art_style_soup.s.text"
   ]
  },
  {
   "cell_type": "code",
   "execution_count": 175,
   "metadata": {},
   "outputs": [
    {
     "data": {
      "text/plain": [
       "'Zen'"
      ]
     },
     "execution_count": 175,
     "metadata": {},
     "output_type": "execute_result"
    }
   ],
   "source": [
    "art_style_soup = art_article.find_all('li', 'dictionary-values')[0]\n",
    "assert 'style' in art_style_soup.s.text.lower()\n",
    "\n",
    "art_style = art_style_soup.find('a').text\n"
   ]
  },
  {
   "cell_type": "code",
   "execution_count": 144,
   "metadata": {},
   "outputs": [
    {
     "data": {
      "text/plain": [
       "<img alt=\"Bonji - Hakuin Ekaku\" itemprop=\"image\" src=\"https://uploads7.wikiart.org/images/hakuin-ekaku/bonji.jpg!Large.jpg\" title=\"Bonji - Hakuin Ekaku\"/>"
      ]
     },
     "execution_count": 144,
     "metadata": {},
     "output_type": "execute_result"
    }
   ],
   "source": [
    "image_soups = soup.find_all('img')\n",
    "image_soups[0]\n"
   ]
  },
  {
   "cell_type": "code",
   "execution_count": 137,
   "metadata": {},
   "outputs": [],
   "source": [
    "image_soups = soup.find_all('img')\n",
    "for s in image_soups:\n",
    "    try:\n",
    "        s['itemprop']\n",
    "        break\n",
    "    except:\n",
    "        break\n",
    "        \n",
    "        \n",
    "        \n",
    "        \n",
    "        "
   ]
  },
  {
   "cell_type": "code",
   "execution_count": 61,
   "metadata": {},
   "outputs": [],
   "source": [
    "soup = BeautifulSoup(driver.page_source, 'html.parser')\n",
    "items1 = soup.findAll(\"a\", {\"class\": \"artwork-name ng-binding\"})\n",
    "items2 = soup.findAll(\"a\", {\"class\": \"artist-name ng-binding\"})\n",
    "assert len(items1) == len(items2)\n"
   ]
  }
 ],
 "metadata": {
  "kernelspec": {
   "display_name": "gym",
   "language": "python",
   "name": "gym"
  },
  "language_info": {
   "codemirror_mode": {
    "name": "ipython",
    "version": 3
   },
   "file_extension": ".py",
   "mimetype": "text/x-python",
   "name": "python",
   "nbconvert_exporter": "python",
   "pygments_lexer": "ipython3",
   "version": "3.7.3"
  }
 },
 "nbformat": 4,
 "nbformat_minor": 4
}
